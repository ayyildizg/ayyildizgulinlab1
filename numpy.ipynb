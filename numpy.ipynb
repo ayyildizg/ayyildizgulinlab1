{
  "cells": [
    {
      "cell_type": "markdown",
      "metadata": {
        "id": "vC84e9kzyxPy"
      },
      "source": [
        "<h1>Импорт библиотек"
      ]
    },
    {
      "cell_type": "code",
      "execution_count": 3,
      "metadata": {
        "id": "cgKeNegmQG5S"
      },
      "outputs": [],
      "source": [
        "import numpy as np\n",
        "import matplotlib.pyplot as plt\n",
        "import matplotlib.pyplot as plt\n",
        "import matplotlib.patches as patches"
      ]
    },
    {
      "cell_type": "markdown",
      "metadata": {
        "id": "qFM9uVU2x4Ls"
      },
      "source": [
        "<h1>Задача 1. Дан набор из $p$ матриц размерностью $(n, n)$ и $p$ векторов размерностью $(n, 1)$, найти сумму произведений матриц на векторы. Написать тесты для кода"
      ]
    },
    {
      "cell_type": "code",
      "execution_count": null,
      "metadata": {
        "id": "IAbUvEiYyWFF"
      },
      "outputs": [],
      "source": [
        "def sum_of_matrix_and_vectors(matrix, vectors):\n",
        "    result = 0\n",
        "    for matrix, vectors in zip(matrix, vectors):\n",
        "        result += np.dot(matrix, vectors)\n",
        "    return result\n",
        "\n",
        "def test_sum_of_matrix_and_vectors():\n",
        "    matrices = [np.array([[1, 2], [3, 4]]), np.array([[5, 6], [7, 8]])]\n",
        "    vectors = [np.array([[1], [2]]), np.array([[3], [4]])]\n",
        "    print(sum_of_matrix_and_vectors(matrices, vectors))\n",
        "\n",
        "\n",
        "test_sum_of_matrix_and_vectors()"
      ]
    },
    {
      "cell_type": "markdown",
      "metadata": {
        "id": "TKwPG4fIy2w4"
      },
      "source": [
        "<h1>Задача 2. Дана матрица M, напишите функцию, которая бинаризует матрицу по некоторому threshold (то есть, все значения большие threshold становятся равными 1, иначе 0). Напишите тесты для кода"
      ]
    },
    {
      "cell_type": "code",
      "execution_count": null,
      "metadata": {
        "id": "KQDNMgsjRNH7"
      },
      "outputs": [],
      "source": [
        "def binarize(M, threshold=0.5):\n",
        "    M_bin = np.where( M > threshold, 1, 0)\n",
        "    return (M_bin)\n",
        "\n",
        "def test_binarize():\n",
        "    M = np.array([\n",
        "        [0.1, 0.5, 0.8],\n",
        "        [0.7, 0.2, 0.4]\n",
        "    ])\n",
        "    print(binarize((M)))\n",
        "\n",
        "test_binarize()"
      ]
    },
    {
      "cell_type": "markdown",
      "metadata": {
        "id": "IY5L-h-7zWhN"
      },
      "source": [
        "<h1>Задача 3. Напишите функцию, которая возвращает уникальные элементы из каждой строки матрицы. Напишите такую же функцию, но для столбцов. Напишите тесты для кода"
      ]
    },
    {
      "cell_type": "code",
      "execution_count": null,
      "metadata": {
        "id": "-8dEZhR0SBC-"
      },
      "outputs": [],
      "source": [
        "def unique_rows(mat):\n",
        "    arr = []\n",
        "    for row in mat:\n",
        "        arr.append(list(set(row)))\n",
        "    return arr\n",
        "\n",
        "def unique_columns(mat):\n",
        "    mat = np.transpose(mat)\n",
        "    arr = []\n",
        "    for colums in mat:\n",
        "        arr.append(list(set(colums)))\n",
        "    return arr\n",
        "\n",
        "def test_unique():\n",
        "    test_matrix = [\n",
        "        [1, 2, 3],\n",
        "        [4, 5, 6],\n",
        "        [1, 2, 3]\n",
        "    ]\n",
        "    print(unique_rows(test_matrix))\n",
        "    print(unique_columns(test_matrix))\n",
        "\n",
        "test_unique()"
      ]
    },
    {
      "cell_type": "markdown",
      "metadata": {
        "id": "roYAlo4Jz-lH"
      },
      "source": [
        "<h1>Задача 4. Напишите функцию, которая заполняет матрицу с размерами $(m, n)$ случайными числами, распределенными по нормальному закону. Затем считает мат. ожидание и дисперсию для каждого из столбцов и строк, а также строит для каждой строки и столбца гистограмму значений (использовать функцию hist из модуля matplotlib.plot)"
      ]
    },
    {
      "cell_type": "code",
      "execution_count": null,
      "metadata": {
        "id": "nZK_71hMSQzv"
      },
      "outputs": [],
      "source": [
        "import numpy as np\n",
        "import matplotlib.pyplot as plt\n",
        "\n",
        "def generate_and_analyze_matrix(m, n):\n",
        "    matrix = np.random.randn(m, n)\n",
        "    row_means = np.mean(matrix, axis=1)\n",
        "    col_means = np.mean(matrix, axis=0)\n",
        "    row_vars = np.var(matrix, axis=1)\n",
        "    col_vars = np.var(matrix, axis=0)\n",
        "\n",
        "    for i in range(m):\n",
        "        plt.figure(figsize=(10, 4))\n",
        "        plt.subplot(1, 2, 1)\n",
        "        plt.hist(matrix[i, :], bins=20, alpha=0.5, color='b', edgecolor='black')\n",
        "        plt.title(f'Гистограмма значений в строке {i+1}')\n",
        "        plt.subplot(1, 2, 2)\n",
        "        plt.hist(matrix[:, i], bins=20, alpha=0.5, color='r', edgecolor='black')\n",
        "        plt.title(f'Гистограмма значений в столбце {i+1}')\n",
        "        plt.show()\n",
        "\n",
        "    return row_means, col_means, row_vars, col_vars\n",
        "\n",
        "row_means, col_means, row_vars, col_vars = generate_and_analyze_matrix(m, n)\n",
        "\n",
        "print(\"Математические ожидания для строк:\")\n",
        "print(row_means)\n",
        "print(\"Математические ожидания для столбцов:\")\n",
        "print(col_means)\n",
        "print(\"Дисперсии для строк:\")\n",
        "print(row_vars)\n",
        "print(\"Дисперсии для столбцов:\")\n",
        "print(col_vars)"
      ]
    },
    {
      "cell_type": "markdown",
      "metadata": {
        "id": "BDyATNdM0dJ2"
      },
      "source": [
        "<h1>Задача 5. Напишите функцию, которая заполняет матрицу $(m, n)$ в шахматном порядке заданными числами $a$ и $b$. Напишите тесты для кода"
      ]
    },
    {
      "cell_type": "code",
      "execution_count": null,
      "metadata": {
        "id": "RWNJYWQGecS6"
      },
      "outputs": [],
      "source": [
        "def chess(m, n, a, b):\n",
        "    matrix = [[0 for _ in range(n)] for _ in range(m)]\n",
        "\n",
        "    for i in range(m):\n",
        "        for j in range(n):\n",
        "            if (i + j) % 2 == 0:\n",
        "                matrix[i][j] = a\n",
        "            else:\n",
        "                matrix[i][j] = b\n",
        "\n",
        "    return matrix\n",
        "\n",
        "# Тесты\n",
        "m = 4\n",
        "n = 4\n",
        "a = 1\n",
        "b = 2\n",
        "\n",
        "chessboard = chess(m, n, a, b)\n",
        "for row in chessboard:\n",
        "    print(row)"
      ]
    },
    {
      "cell_type": "markdown",
      "metadata": {
        "id": "-ymXLtTN0vB6"
      },
      "source": [
        "<h1>Задача 6. Напишите функцию, которая отрисовывает прямоугольник с заданными размерами (a, b) на изображении размера (m, n), цвет фона задайте в схеме RGB, как и цвет прямоугольника. Цвета также должны быть параметрами функции. Напишите аналогичную функцию но для овала с полуосями a и b. Напишите тесты для кода.\n",
        "Примечание: уравнение эллипса (границы овала) можно записать как:\n",
        "<h1>$\\frac{(x-x_0)^2}{a^2}+\\frac{(y-y_0)^2}{b^2}=1$"
      ]
    },
    {
      "cell_type": "code",
      "execution_count": 1,
      "metadata": {
        "id": "sNfl1t_kfOF4"
      },
      "outputs": [],
      "source": [
        "def draw_rectangle(a, b, m, n, rectangle_color, background_color):\n",
        "    fig = plt.figure()\n",
        "    ax = fig.add_subplot(111)\n",
        "    \n",
        "    background = patches.Rectangle((0, 0), m, n, color = background_color)\n",
        "    rect = patches.Rectangle(((m - a)/2, (n-b)/2), a, b, color = rectangle_color)\n",
        "\n",
        "    ax.add_patch(background)\n",
        "    ax.add_patch(rect)\n",
        "    \n",
        "    plt.xlim(0, m)\n",
        "    plt.ylim(0, n)\n",
        "    plt.show()\n",
        "\n",
        "def draw_ellipse(a, b, m, n, ellipse_color, background_color):\n",
        "    \n",
        "    a *= 2\n",
        "    b *= 2\n",
        "    \n",
        "    fig = plt.figure()\n",
        "    ax = fig.add_subplot(111)\n",
        "    \n",
        "    background = patches.Rectangle((0, 0), m, n, color = background_color)\n",
        "    eli = patches.Ellipse((m/2, n/2), a, b, color = ellipse_color)\n",
        "\n",
        "    ax.add_patch(background)\n",
        "    ax.add_patch(eli)\n",
        "    \n",
        "    plt.xlim(0, m)\n",
        "    plt.ylim(0, n)\n",
        "    plt.show()\n",
        "\n",
        "a = 40\n",
        "b = 90\n",
        "m = 100\n",
        "n = 300\n",
        "rectangle_color = '#9400D3'\n",
        "ellipse_color = '#A52A2A'\n",
        "background_color = '#B0E0E6'\n",
        "\n",
        "draw_rectangle(a, b, m, n, rectangle_color, background_color)\n",
        "draw_ellipse(a, b, m, n, ellipse_color, background_color)"
      ]
    },
    {
      "cell_type": "markdown",
      "metadata": {
        "id": "S82c38oz244H"
      },
      "source": [
        "<h1>Задача 7. Дан некий временной ряд. Для данного ряда нужно найти его: математическое ожидание, дисперсию, СКО, найти все локальные максимумы и минимумы (локальный максимум - это точка, которая больше своих соседних точек, а локальный минимум - это точка, которая меньше своих соседей), а также вычислить для данного ряда другой ряд, получаемый методом скользящего среднего с размером окна $p$.\n",
        "<h1>Примечание: метод скользящего среднего подразумевает нахождение среднего из подмножетсва ряда размером $p$"
      ]
    },
    {
      "cell_type": "code",
      "execution_count": null,
      "metadata": {
        "id": "Zb9mIVge5MMt"
      },
      "outputs": [],
      "source": [
        "def time_series_analysis(ts, p):\n",
        "\n",
        "    mean = np.mean(ts)\n",
        "    variance = np.var(ts)\n",
        "    deviation = np.std(ts)\n",
        "\n",
        "    local_min = []\n",
        "    local_max = []\n",
        "    for i in range(1, len(ts) - 1):\n",
        "        if ts[i] < ts[i - 1] and ts[i] < ts[i + 1]:\n",
        "            local_min.append(ts[i])\n",
        "        if ts[i] > ts[i - 1] and ts[i] > ts[i + 1]:\n",
        "            local_max.append(ts[i])\n",
        "\n",
        "    smooth_ts = np.convolve(ts, np.ones(p), mode='valid') / p\n",
        "\n",
        "    return mean, variance, deviation, local_min, local_max, smooth_ts\n",
        "\n",
        "# Пример временного ряда\n",
        "Series = np.array([2, 4, 5, 6, 5, 1, 7, 3, 7, 9])\n",
        "p = 3\n",
        "\n",
        "mean, variance, deviation, local_max, local_min, smoothed_series = time_series_analysis(Series, p)\n",
        "\n",
        "print(\"Математическое ожидание:\", mean)\n",
        "print(\"Дисперсия:\", variance)\n",
        "print(\"СКО:\", deviation)\n",
        "print(\"Локальные максимумы:\", local_max)\n",
        "print(\"Локальные минимумы:\", local_min)\n",
        "print(\"Скользящее среднее:\", smoothed_series)"
      ]
    },
    {
      "cell_type": "markdown",
      "metadata": {
        "id": "jPkylmOX5O9n"
      },
      "source": [
        "<h1> Задача 8. Дан некоторый вектор с целочисленными метками классов, напишите функцию, которая выполняет one-hot-encoding для данного вектора\n",
        "<h1> One-hot-encoding - представление, в котором на месте метки некоторого класса стоит 1, в остальных позициях стоит 0. Например для вектора [0, 2, 3, 0] one-hot-encoding выглядит как: [[1, 0, 0, 0], [0, 0, 1, 0], [0, 0, 0, 1], [1, 0, 0, 0]]"
      ]
    },
    {
      "cell_type": "code",
      "execution_count": null,
      "metadata": {
        "id": "Y-jlnZvw56lD"
      },
      "outputs": [],
      "source": [
        "def one_hot_encoding(labels, num_classes):\n",
        "    # Создаем матрицу нулей размером (количество меток, количество классов)\n",
        "    encoding = np.zeros((len(labels), num_classes), dtype=int)\n",
        "\n",
        "    # Заполняем one-hot-encoding\n",
        "    for i, label in enumerate(labels):\n",
        "        encoding[i, label] = 1\n",
        "\n",
        "    return encoding\n",
        "\n",
        "# Пример использования\n",
        "labels = [0, 2, 3, 0]\n",
        "num_classes = 4\n",
        "\n",
        "one_hot_encoded = one_hot_encoding(labels, num_classes)\n",
        "print(one_hot_encoded)"
      ]
    }
  ],
  "metadata": {
    "colab": {
      "provenance": []
    },
    "kernelspec": {
      "display_name": "Python 3",
      "name": "python3"
    },
    "language_info": {
      "name": "python"
    }
  },
  "nbformat": 4,
  "nbformat_minor": 0
}
