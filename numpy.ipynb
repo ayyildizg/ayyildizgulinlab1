{
  "cells": [
    {
      "cell_type": "markdown",
      "metadata": {
        "id": "vC84e9kzyxPy"
      },
      "source": [
        "<h1>Импорт библиотек"
      ]
    },
    {
      "cell_type": "code",
      "execution_count": 3,
      "metadata": {
        "id": "cgKeNegmQG5S"
      },
      "outputs": [],
      "source": [
        "import numpy as np\n",
        "import matplotlib.pyplot as plt"
      ]
    },
    {
      "cell_type": "markdown",
      "metadata": {
        "id": "qFM9uVU2x4Ls"
      },
      "source": [
        "<h1>Задача 1. Дан набор из $p$ матриц размерностью $(n, n)$ и $p$ векторов размерностью $(n, 1)$, найти сумму произведений матриц на векторы. Написать тесты для кода"
      ]
    },
    {
      "cell_type": "code",
      "execution_count": null,
      "metadata": {
        "id": "IAbUvEiYyWFF"
      },
      "outputs": [],
      "source": [
        "import numpy as np\n",
        "\n",
        "def sum_prod(X, V):\n",
        "    '''\n",
        "    X - матрицы (n, n)\n",
        "    V - векторы (n, 1)\n",
        "    Гарантируется, что len(X) == len(V)\n",
        "    '''\n",
        "    result = np.zeros((X[0].shape[0], 1))\n",
        "\n",
        "    for i in range(len(X)):\n",
        "        result += np.dot(X[i], V[i])\n",
        "\n",
        "    return result\n",
        "\n",
        "# Тесты\n",
        "def test_sum_prod():\n",
        "    X1 = np.array([[1, 2], [3, 4]])\n",
        "    X2 = np.array([[5, 6], [7, 8]])\n",
        "    V1 = np.array([[1], [2]])\n",
        "    V2 = np.array([[3], [4]])\n",
        "\n",
        "    assert np.array_equal(sum_prod([X1, X2], [V1, V2]), np.array([[38], [86]]))\n",
        "\n",
        "    X3 = np.array([[2, 0], [0, 2]])\n",
        "    X4 = np.array([[1, 1], [1, 1]])\n",
        "    V3 = np.array([[1], [2]])\n",
        "    V4 = np.array([[3], [4]])\n",
        "\n",
        "    assert np.array_equal(sum_prod([X3, X4], [V3, V4]), np.array([[10], [14]]))\n",
        "\n",
        "# Запуск тестов\n",
        "test_sum_prod()"
      ]
    },
    {
      "cell_type": "markdown",
      "metadata": {
        "id": "TKwPG4fIy2w4"
      },
      "source": [
        "<h1>Задача 2. Дана матрица M, напишите функцию, которая бинаризует матрицу по некоторому threshold (то есть, все значения большие threshold становятся равными 1, иначе 0). Напишите тесты для кода"
      ]
    },
    {
      "cell_type": "code",
      "execution_count": null,
      "metadata": {
        "id": "KQDNMgsjRNH7"
      },
      "outputs": [],
      "source": [
        "import numpy as np\n",
        "\n",
        "def binarize(M, threshold=0.5):\n",
        "    '''\n",
        "    Бинаризует матрицу M по порогу threshold.\n",
        "    Все значения больше threshold становятся равными 1, иначе 0.\n",
        "    '''\n",
        "    return np.where(M > threshold, 1, 0)\n",
        "\n",
        "# Тесты\n",
        "def test_binarize():\n",
        "    M1 = np.array([[0.2, 0.6], [0.8, 0.3]])\n",
        "    assert np.array_equal(binarize(M1, 0.5), np.array([[0, 1], [1, 0]]))\n",
        "\n",
        "    M2 = np.array([[1, 2], [3, 4]])\n",
        "    assert np.array_equal(binarize(M2, 2), np.array([[0, 0], [1, 1]]))\n",
        "\n",
        "    M3 = np.array([[0.1, 0.4], [0.6, 0.9]])\n",
        "    assert np.array_equal(binarize(M3), np.array([[0, 0], [1, 1]]))\n",
        "\n",
        "    M4 = np.array([[0.5, 0.5], [0.5, 0.5]])\n",
        "    assert np.array_equal(binarize(M4), np.array([[0, 0], [0, 0]]))\n",
        "\n",
        "# Запуск тестов\n",
        "test_binarize()"
      ]
    },
    {
      "cell_type": "markdown",
      "metadata": {
        "id": "IY5L-h-7zWhN"
      },
      "source": [
        "<h1>Задача 3. Напишите функцию, которая возвращает уникальные элементы из каждой строки матрицы. Напишите такую же функцию, но для столбцов. Напишите тесты для кода"
      ]
    },
    {
      "cell_type": "code",
      "execution_count": null,
      "metadata": {
        "id": "-8dEZhR0SBC-"
      },
      "outputs": [],
      "source": [
        "import numpy as np\n",
        "\n",
        "def unique_rows(mat):\n",
        "    '''\n",
        "    Возвращает уникальные элементы из каждой строки матрицы.\n",
        "    '''\n",
        "    return [np.unique(row) for row in mat]\n",
        "\n",
        "def unique_columns(mat):\n",
        "    '''\n",
        "    Возвращает уникальные элементы из каждого столбца матрицы.\n",
        "    '''\n",
        "    return [np.unique(mat[:, i]) for i in range(mat.shape[1])]\n",
        "\n",
        "# Тесты\n",
        "def test_unique_rows():\n",
        "    mat1 = np.array([[1, 2, 2], [3, 4, 5], [1, 2, 2]])\n",
        "    assert unique_rows(mat1) == [np.array([1, 2]), np.array([3, 4, 5]), np.array([1, 2])]\n",
        "\n",
        "    mat2 = np.array([[1, 1, 1], [2, 2, 2], [3, 3, 3]])\n",
        "    assert unique_rows(mat2) == [np.array([1]), np.array([2]), np.array([3])]\n",
        "\n",
        "def test_unique_columns():\n",
        "    mat1 = np.array([[1, 2, 2], [3, 4, 5], [1, 2, 2]])\n",
        "    assert unique_columns(mat1) == [np.array([1, 3]), np.array([2, 4]), np.array([2, 5])]\n",
        "\n",
        "    mat2 = np.array([[1, 1, 1], [2, 2, 2], [3, 3, 3]])\n",
        "    assert unique_columns(mat2) == [np.array([1, 2, 3])]\n",
        "\n",
        "# Запуск тестов\n",
        "test_unique_rows()\n",
        "test_unique_columns()"
      ]
    },
    {
      "cell_type": "markdown",
      "metadata": {
        "id": "roYAlo4Jz-lH"
      },
      "source": [
        "<h1>Задача 4. Напишите функцию, которая заполняет матрицу с размерами $(m, n)$ случайными числами, распределенными по нормальному закону. Затем считает мат. ожидание и дисперсию для каждого из столбцов и строк, а также строит для каждой строки и столбца гистограмму значений (использовать функцию hist из модуля matplotlib.plot)"
      ]
    },
    {
      "cell_type": "code",
      "execution_count": null,
      "metadata": {
        "id": "nZK_71hMSQzv"
      },
      "outputs": [],
      "source": [
        "import numpy as np\n",
        "import matplotlib.pyplot as plt\n",
        "\n",
        "def fill_matrix(m, n):\n",
        "    '''\n",
        "    Заполняет матрицу с размерами (m, n) случайными числами из нормального распределения.\n",
        "    Затем считает мат. ожидание и дисперсию для каждого столбца и строки.\n",
        "    Строит гистограммы значений для каждой строки и столбца.\n",
        "    '''\n",
        "    # Заполняем матрицу случайными числами из нормального распределения\n",
        "    matrix = np.random.randn(m, n)\n",
        "\n",
        "    # Считаем мат. ожидание и дисперсию для каждого столбца и строки\n",
        "    col_means = np.mean(matrix, axis=0)\n",
        "    col_vars = np.var(matrix, axis=0)\n",
        "\n",
        "    row_means = np.mean(matrix, axis=1)\n",
        "    row_vars = np.var(matrix, axis=1)\n",
        "\n",
        "    # Строим гистограммы значений для каждой строки\n",
        "    for i in range(m):\n",
        "        plt.hist(matrix[i], bins=20, alpha=0.5, label=f'Row {i + 1}')\n",
        "\n",
        "    plt.title('Histograms for Rows')\n",
        "    plt.xlabel('Values')\n",
        "    plt.ylabel('Frequency')\n",
        "    plt.legend()\n",
        "    plt.show()\n",
        "\n",
        "    # Строим гистограммы значений для каждого столбца\n",
        "    for j in range(n):\n",
        "        plt.hist(matrix[:, j], bins=20, alpha=0.5, label=f'Column {j + 1}')\n",
        "\n",
        "    plt.title('Histograms for Columns')\n",
        "    plt.xlabel('Values')\n",
        "    plt.ylabel('Frequency')\n",
        "    plt.legend()\n",
        "    plt.show()\n",
        "\n",
        "    return col_means, col_vars, row_means, row_vars\n",
        "\n",
        "# Тесты\n",
        "def test_fill_matrix():\n",
        "    m = 5\n",
        "    n = 3\n",
        "    col_means, col_vars, row_means, row_vars = fill_matrix(m, n)\n",
        "\n",
        "    assert len(col_means) == n\n",
        "    assert len(col_vars) == n\n",
        "    assert len(row_means) == m\n",
        "    assert len(row_vars) == m\n",
        "\n",
        "# Запуск тестов\n",
        "test_fill_matrix()"
      ]
    },
    {
      "cell_type": "markdown",
      "metadata": {
        "id": "BDyATNdM0dJ2"
      },
      "source": [
        "<h1>Задача 5. Напишите функцию, которая заполняет матрицу $(m, n)$ в шахматном порядке заданными числами $a$ и $b$. Напишите тесты для кода"
      ]
    },
    {
      "cell_type": "code",
      "execution_count": null,
      "metadata": {
        "id": "RWNJYWQGecS6"
      },
      "outputs": [],
      "source": [
        "import numpy as np\n",
        "\n",
        "def chess(m, n, a, b):\n",
        "    '''\n",
        "    Заполняет матрицу (m, n) в шахматном порядке числами a и b.\n",
        "    Первый элемент (0, 0) равен a.\n",
        "    '''\n",
        "    matrix = np.zeros((m, n))\n",
        "\n",
        "    for i in range(m):\n",
        "        for j in range(n):\n",
        "            if (i + j) % 2 == 0:\n",
        "                matrix[i, j] = a\n",
        "            else:\n",
        "                matrix[i, j] = b\n",
        "\n",
        "    return matrix\n",
        "\n",
        "# Тесты\n",
        "def test_chess():\n",
        "    m = 3\n",
        "    n = 4\n",
        "    a = 1\n",
        "    b = 2\n",
        "    result = chess(m, n, a, b)\n",
        "\n",
        "    assert result.shape == (m, n)\n",
        "    assert np.array_equal(result, np.array([[1, 2, 1, 2], [1, 2, 1, 2], [1, 2, 1, 2]]))\n",
        "\n",
        "# Запуск тестов\n",
        "test_chess()"
      ]
    },
    {
      "cell_type": "markdown",
      "metadata": {
        "id": "-ymXLtTN0vB6"
      },
      "source": [
        "<h1>Задача 6. Напишите функцию, которая отрисовывает прямоугольник с заданными размерами (a, b) на изображении размера (m, n), цвет фона задайте в схеме RGB, как и цвет прямоугольника. Цвета также должны быть параметрами функции. Напишите аналогичную функцию но для овала с полуосями a и b. Напишите тесты для кода.\n",
        "Примечание: уравнение эллипса (границы овала) можно записать как:\n",
        "<h1>$\\frac{(x-x_0)^2}{a^2}+\\frac{(y-y_0)^2}{b^2}=1$"
      ]
    },
    {
      "cell_type": "code",
      "execution_count": 1,
      "metadata": {
        "id": "sNfl1t_kfOF4"
      },
      "outputs": [],
      "source": [
        "import numpy as np\n",
        "import matplotlib.pyplot as plt\n",
        "import matplotlib.patches as patches\n",
        "\n",
        "def draw_rectangle(a, b, m, n, rectangle_color, background_color):\n",
        "    '''\n",
        "    Отрисовывает прямоугольник с заданными размерами (a, b) на изображении размера (m, n).\n",
        "    rectangle_color - цвет прямоугольника в формате RGB\n",
        "    background_color - цвет фона в формате RGB\n",
        "    '''\n",
        "    # Создаем изображение с заданным цветом фона\n",
        "    img = np.ones((m, n, 3)) * background_color\n",
        "\n",
        "    # Создаем прямоугольник с заданными размерами и цветом\n",
        "    rect = patches.Rectangle((0, 0), a, b, linewidth=1, edgecolor='none', facecolor=rectangle_color)\n",
        "\n",
        "    # Добавляем прямоугольник на изображение\n",
        "    fig, ax = plt.subplots(1)\n",
        "    ax.imshow(img)\n",
        "    ax.add_patch(rect)\n",
        "    plt.axis('off')\n",
        "    plt.show()\n",
        "\n",
        "def draw_ellipse(a, b, m, n, ellipse_color, background_color):\n",
        "    '''\n",
        "    Отрисовывает овал с полуосями a и b на изображении размера (m, n).\n",
        "    ellipse_color - цвет овала в формате RGB\n",
        "    background_color - цвет фона в формате RGB\n",
        "    '''\n",
        "    # Создаем изображение с заданным цветом фона\n",
        "    img = np.ones((m, n, 3)) * background_color\n",
        "\n",
        "    # Создаем овал с заданными полуосями и цветом\n",
        "    ellipse = patches.Ellipse((m/2, n/2), a, b, linewidth=1, edgecolor='none', facecolor=ellipse_color)\n",
        "\n",
        "    # Добавляем овал на изображение\n",
        "    fig, ax = plt.subplots(1)\n",
        "    ax.imshow(img)\n",
        "    ax.add_patch(ellipse)\n",
        "    plt.axis('off')\n",
        "    plt.show()\n",
        "\n",
        "# Тесты\n",
        "def test_draw_shapes():\n",
        "    draw_rectangle(40, 20, 100, 80, (0.5, 0.2, 0.8), (1, 1, 1))\n",
        "    draw_ellipse(30, 50, 120, 80, (0.2, 0.7, 0.4), (1, 1, 1))\n",
        "\n",
        "# Запуск тестов\n",
        "test_draw_shapes()"
      ]
    },
    {
      "cell_type": "markdown",
      "metadata": {
        "id": "S82c38oz244H"
      },
      "source": [
        "<h1>Задача 7. Дан некий временной ряд. Для данного ряда нужно найти его: математическое ожидание, дисперсию, СКО, найти все локальные максимумы и минимумы (локальный максимум - это точка, которая больше своих соседних точек, а локальный минимум - это точка, которая меньше своих соседей), а также вычислить для данного ряда другой ряд, получаемый методом скользящего среднего с размером окна $p$.\n",
        "<h1>Примечание: метод скользящего среднего подразумевает нахождение среднего из подмножетсва ряда размером $p$"
      ]
    },
    {
      "cell_type": "code",
      "execution_count": null,
      "metadata": {
        "id": "Zb9mIVge5MMt"
      },
      "outputs": [],
      "source": [
        "import numpy as np\n",
        "import matplotlib.pyplot as plt\n",
        "\n",
        "def calculate_statistics(time_series):\n",
        "    mean_value = np.mean(time_series)\n",
        "    variance_value = np.var(time_series)\n",
        "    std_deviation = np.std(time_series)\n",
        "\n",
        "    # Находим индексы локальных максимумов и минимумов\n",
        "    local_maxima = (np.diff(np.sign(np.diff(time_series))) < 0).nonzero()[0] + 1\n",
        "    local_minima = (np.diff(np.sign(np.diff(time_series))) > 0).nonzero()[0] + 1\n",
        "\n",
        "    return mean_value, variance_value, std_deviation, local_maxima, local_minima\n",
        "\n",
        "def moving_average(time_series, window_size):\n",
        "    result = np.convolve(time_series, np.ones(window_size)/window_size, mode='valid')\n",
        "    return np.concatenate(([np.nan] * (window_size-1), result))\n",
        "\n",
        "# Пример временного ряда\n",
        "time_series = np.array([1, 3, 7, 1, 2, 6, 4, 8, 5, 3, 9, 2, 7])\n",
        "\n",
        "# Рассчитываем статистики\n",
        "mean_value, variance_value, std_deviation, local_maxima, local_minima = calculate_statistics(time_series)\n",
        "\n",
        "# Выводим результаты\n",
        "print(f\"Математическое ожидание: {mean_value}\")\n",
        "print(f\"Дисперсия: {variance_value}\")\n",
        "print(f\"СКО: {std_deviation}\")\n",
        "print(f\"Локальные максимумы: {local_maxima}\")\n",
        "print(f\"Локальные минимумы: {local_minima}\")\n",
        "\n",
        "# Рассчитываем ряд скользящего среднего с окном размера p\n",
        "window_size = 3\n",
        "moving_avg_series = moving_average(time_series, window_size)\n",
        "\n",
        "# Выводим графики для визуализации\n",
        "plt.plot(time_series, label='Исходный временной ряд')\n",
        "plt.plot(moving_avg_series, label=f'Скользящее среднее (окно {window_size})', linestyle='dashed')\n",
        "plt.scatter(local_maxima, time_series[local_maxima], color='red', label='Локальные максимумы')\n",
        "plt.scatter(local_minima, time_series[local_minima], color='green', label='Локальные минимумы')\n",
        "plt.legend()\n",
        "plt.show()"
      ]
    },
    {
      "cell_type": "markdown",
      "metadata": {
        "id": "jPkylmOX5O9n"
      },
      "source": [
        "<h1> Задача 8. Дан некоторый вектор с целочисленными метками классов, напишите функцию, которая выполняет one-hot-encoding для данного вектора\n",
        "<h1> One-hot-encoding - представление, в котором на месте метки некоторого класса стоит 1, в остальных позициях стоит 0. Например для вектора [0, 2, 3, 0] one-hot-encoding выглядит как: [[1, 0, 0, 0], [0, 0, 1, 0], [0, 0, 0, 1], [1, 0, 0, 0]]"
      ]
    },
    {
      "cell_type": "code",
      "execution_count": null,
      "metadata": {
        "id": "Y-jlnZvw56lD"
      },
      "outputs": [],
      "source": [
        "import numpy as np\n",
        "\n",
        "def one_hot_encoding(class_labels):\n",
        "    '''\n",
        "    Выполняет one-hot-encoding для данного вектора с целочисленными метками классов.\n",
        "    '''\n",
        "    num_classes = len(np.unique(class_labels))\n",
        "    encoding_matrix = np.zeros((len(class_labels), num_classes), dtype=int)\n",
        "\n",
        "    for i, label in enumerate(class_labels):\n",
        "        encoding_matrix[i, label] = 1\n",
        "\n",
        "    return encoding_matrix\n",
        "\n",
        "# Тесты\n",
        "def test_one_hot_encoding():\n",
        "    class_labels1 = [0, 2, 3, 0]\n",
        "    result1 = one_hot_encoding(class_labels1)\n",
        "    assert np.array_equal(result1, np.array([[1, 0, 0, 0], [0, 0, 1, 0], [0, 0, 0, 1], [1, 0, 0, 0]]))\n",
        "\n",
        "    class_labels2 = [2, 1, 0, 2, 1]\n",
        "    result2 = one_hot_encoding(class_labels2)\n",
        "    assert np.array_equal(result2, np.array([[0, 0, 1], [0, 1, 0], [1, 0, 0], [0, 0, 1], [0, 1, 0]]))\n",
        "\n",
        "# Запуск тестов\n",
        "test_one_hot_encoding()"
      ]
    }
  ],
  "metadata": {
    "colab": {
      "provenance": []
    },
    "kernelspec": {
      "display_name": "Python 3",
      "name": "python3"
    },
    "language_info": {
      "name": "python"
    }
  },
  "nbformat": 4,
  "nbformat_minor": 0
}
