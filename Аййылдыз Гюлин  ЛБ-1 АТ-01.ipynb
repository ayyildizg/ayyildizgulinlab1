{
  "cells": [
    {
      "cell_type": "markdown",
      "metadata": {
        "id": "M-DGa20PaHnu"
      },
      "source": [
        "#Задача 1\n",
        "Написать функцию на вход которой подается строка, состоящая из латинских букв.\n",
        "Функция должна вернуть количество гласных букв (a, e, i, o, u) в этой строке. Написать тесты для кода"
      ]
    },
    {
      "cell_type": "code",
      "execution_count": null,
      "metadata": {
        "id": "XvX8X_JJ6PCb"
      },
      "outputs": [],
      "source": [
        "def count_vowels(s):\n",
        "    vowels = \"aeiouAEIOU\"\n",
        "    return sum(1 for char in s if char in vowels)\n",
        "\n",
        "# Тесты\n",
        "def test_count_vowels():\n",
        "    assert count_vowels(\"hello\") == 2\n",
        "    assert count_vowels(\"world\") == 1\n",
        "    assert count_vowels(\"aeiou\") == 5\n",
        "    assert count_vowels(\"Python\") == 1\n",
        "    assert count_vowels(\"\") == 0\n",
        "\n",
        "# Запуск тестов\n",
        "test_count_vowels()"
      ]
    },
    {
      "cell_type": "markdown",
      "metadata": {
        "id": "t2ClV_Y0bbr6"
      },
      "source": [
        "# Задача 2\n",
        "Написать функцию на вход, которой подается строка. Функция должна вернуть true, если\n",
        "каждый символ в строке встречается только 1 раз, иначе должна вернуть false. Написать тесты для кода"
      ]
    },
    {
      "cell_type": "code",
      "execution_count": null,
      "metadata": {
        "id": "FppbECao6VIz"
      },
      "outputs": [],
      "source": [
        "def has_unique_characters(s):\n",
        "    # Используем множество для отслеживания уникальных символов\n",
        "    seen_chars = set()\n",
        "\n",
        "    for char in s:\n",
        "        if char in seen_chars:\n",
        "            # Если символ уже встречался, значит, не все символы уникальны\n",
        "            return False\n",
        "        seen_chars.add(char)\n",
        "\n",
        "    # Если цикл завершился, значит, все символы уникальны\n",
        "    return True\n",
        "\n",
        "# Тесты\n",
        "def test_has_unique_characters():\n",
        "    assert has_unique_characters(\"abcde\") == True\n",
        "    assert has_unique_characters(\"hello\") == False\n",
        "    assert has_unique_characters(\"world\") == True\n",
        "    assert has_unique_characters(\"python\") == True\n",
        "    assert has_unique_characters(\"aa\") == False\n",
        "    assert has_unique_characters(\"\") == True\n",
        "\n",
        "# Запуск тестов\n",
        "test_has_unique_characters()"
      ]
    },
    {
      "cell_type": "markdown",
      "metadata": {
        "id": "udRiIK1cdt6E"
      },
      "source": [
        "# Задача 3\n",
        "Написать функцию, которая принимает положительное число и возвращает количество\n",
        "бит равных 1 в этом числе. Написать тесты для кода"
      ]
    },
    {
      "cell_type": "code",
      "execution_count": null,
      "metadata": {
        "id": "6tkfDJRz6dp_"
      },
      "outputs": [],
      "source": [
        "def count_set_bits(num):\n",
        "    # Преобразуем число в двоичную строку и считаем количество '1'\n",
        "    binary_representation = bin(num)\n",
        "    return binary_representation.count('1')\n",
        "\n",
        "# Тесты\n",
        "def test_count_set_bits():\n",
        "    assert count_set_bits(5) == 2  # Бинарное представление: 101\n",
        "    assert count_set_bits(8) == 1  # Бинарное представление: 1000\n",
        "    assert count_set_bits(15) == 4 # Бинарное представление: 1111\n",
        "    assert count_set_bits(0) == 0  # Ноль не имеет установленных битов\n",
        "    assert count_set_bits(1) == 1  # Бинарное представление: 1\n",
        "\n",
        "# Запуск тестов\n",
        "test_count_set_bits()"
      ]
    },
    {
      "cell_type": "markdown",
      "metadata": {
        "id": "26dDUz-Ae17N"
      },
      "source": [
        "# Задача 4\n",
        "Написать функцию, которая принимает положительное число. Функция должна вернуть то,\n",
        "сколько раз необходимо перемножать цифры числа или результат перемножения, чтобы\n",
        "получилось число состоящее из одной цифры.\n",
        "Например, для входного числа:\n",
        "· 39 функция должна вернуть 3, так как 3*9=27 => 2*7=14 => 1*4=4\n",
        "· 4 функция должна вернуть 0, так как число уже состоит из одной цифры\n",
        "· 999 функция должна вернуть 4, так как 9*9*9=729 => 7*2*9=126 => 1*2*6=12 =>\n",
        "1*2=2. Написать тесты для кода"
      ]
    },
    {
      "cell_type": "code",
      "execution_count": null,
      "metadata": {
        "id": "BH1A_Mgi6i4G"
      },
      "outputs": [],
      "source": [
        "def magic(n):\n",
        "    # Преобразуем число в строку для удобства обработки цифр\n",
        "    num_str = str(n)\n",
        "\n",
        "    # Функция для перемножения цифр числа\n",
        "    def multiply_digits(number):\n",
        "        result = 1\n",
        "        for digit in str(number):\n",
        "            result *= int(digit)\n",
        "        return result\n",
        "\n",
        "    # Итеративно перемножаем цифры до тех пор, пока число не станет однозначным\n",
        "    count = 0\n",
        "    while len(str(n)) > 1:\n",
        "        n = multiply_digits(n)\n",
        "        count += 1\n",
        "\n",
        "    return count\n",
        "\n",
        "# Тесты\n",
        "def test_magic():\n",
        "    assert magic(39) == 3\n",
        "    assert magic(4) == 0\n",
        "    assert magic(999) == 4\n",
        "    assert magic(12345) == 2\n",
        "    assert magic(7) == 0\n",
        "\n",
        "# Запуск тестов\n",
        "test_magic()"
      ]
    },
    {
      "cell_type": "markdown",
      "metadata": {
        "id": "0nS-kIa8g8vd"
      },
      "source": [
        "# Задача 5\n",
        "Написать функцию, которая принимает два целочисленных вектора одинаковой длины и\n",
        "возвращает среднеквадратическое отклонение двух векторов. Написать тесты для кода"
      ]
    },
    {
      "cell_type": "code",
      "execution_count": null,
      "metadata": {
        "id": "8iphx4LM6xbx"
      },
      "outputs": [],
      "source": [
        "def mse(pred, true):\n",
        "    # Проверяем, что векторы одинаковой длины\n",
        "    if len(pred) != len(true):\n",
        "        raise ValueError(\"Vectors must have the same length\")\n",
        "\n",
        "    # Рассчитываем квадраты разностей между соответствующими элементами векторов\n",
        "    squared_diff = [(p - t) ** 2 for p, t in zip(pred, true)]\n",
        "\n",
        "    # Рассчитываем среднее значение квадратов разностей\n",
        "    mean_squared_diff = sum(squared_diff) / len(pred)\n",
        "\n",
        "    return mean_squared_diff\n",
        "\n",
        "# Тесты\n",
        "def test_mse():\n",
        "    assert mse([1, 2, 3], [4, 5, 6]) == 9\n",
        "    assert mse([0, 0, 0], [0, 0, 0]) == 0\n",
        "    assert mse([-1, 0, 1], [1, 0, -1]) == 4\n",
        "    assert mse([2, 4, 6], [1, 3, 5]) == 1\n",
        "    assert mse([0, 0, 0], [1, 1, 1]) == 1\n",
        "\n",
        "# Запуск тестов\n",
        "test_mse()"
      ]
    },
    {
      "cell_type": "markdown",
      "metadata": {
        "id": "vpIPKL439zkw"
      },
      "source": [
        "# Задача 6\n",
        "Написать функцию, принимающая целое положительное число. Функция должна вернуть\n",
        "строку вида “(n1**p1)(n2**p2)…(nk**pk)” представляющая разложение числа на простые\n",
        "множители (если pi == 1, то выводить только ni).\n",
        "Например, для числа 86240 функция должна вернуть “(2**5)(5)(7**2)(11)”. Написать тесты для кода"
      ]
    },
    {
      "cell_type": "code",
      "execution_count": null,
      "metadata": {
        "id": "pFebmcZk94Jw"
      },
      "outputs": [],
      "source": [
        "def prime_factorization(n):\n",
        "    # Проверка на положительное число\n",
        "    if n <= 0:\n",
        "        raise ValueError(\"Input must be a positive integer\")\n",
        "\n",
        "    result = \"\"\n",
        "    i = 2  # Начинаем с делителя 2, самого маленького простого числа\n",
        "\n",
        "    while i * i <= n:\n",
        "        count = 0\n",
        "        while n % i == 0:\n",
        "            n //= i\n",
        "            count += 1\n",
        "\n",
        "        if count > 0:\n",
        "            if count == 1:\n",
        "                result += f\"({i})\"\n",
        "            else:\n",
        "                result += f\"({i}**{count})\"\n",
        "\n",
        "        i += 1\n",
        "\n",
        "    if n > 1:\n",
        "        result += f\"({n})\"\n",
        "\n",
        "    return result\n",
        "\n",
        "# Тесты\n",
        "def test_prime_factorization():\n",
        "    assert prime_factorization(86240) == \"(2**5)(5)(7**2)(11)\"\n",
        "    assert prime_factorization(2) == \"(2)\"\n",
        "    assert prime_factorization(17) == \"(17)\"\n",
        "    assert prime_factorization(1) == \"\"\n",
        "    assert prime_factorization(100) == \"(2**2)(5**2)\"\n",
        "\n",
        "# Запуск тестов\n",
        "test_prime_factorization()"
      ]
    },
    {
      "cell_type": "markdown",
      "metadata": {
        "id": "ps2s0BudX7A2"
      },
      "source": [
        "# Задача 7\n",
        "Написать функцию, принимающая целое число n, задающее количество кубиков. Функция\n",
        "должна определить, можно ли из данного кол-ва кубиков построить пирамиду, то есть\n",
        "можно ли представить число n как 1^2+2^2+3^2+…+k^2. Если можно, то функция должна\n",
        "вернуть k, иначе строку “It is impossible”. Написать тесты для кода"
      ]
    },
    {
      "cell_type": "code",
      "execution_count": null,
      "metadata": {
        "id": "3YPjEXxhX_YT"
      },
      "outputs": [],
      "source": [
        "def pyramid(number):\n",
        "    # Проверка на неотрицательное число\n",
        "    if number < 0:\n",
        "        raise ValueError(\"Input must be a non-negative integer\")\n",
        "\n",
        "    k = 1\n",
        "    while (k * (k + 1) * (2 * k + 1)) // 6 <= number:\n",
        "        if (k * (k + 1) * (2 * k + 1)) // 6 == number:\n",
        "            return k\n",
        "        k += 1\n",
        "\n",
        "    return \"It is impossible\"\n",
        "\n",
        "# Тесты\n",
        "def test_pyramid():\n",
        "    assert pyramid(1) == 1\n",
        "    assert pyramid(5) == \"It is impossible\"\n",
        "    assert pyramid(14) == 2\n",
        "    assert pyramid(30) == 3\n",
        "    assert pyramid(55) == 4\n",
        "    assert pyramid(91) == 5\n",
        "\n",
        "# Запуск тестов\n",
        "test_pyramid()"
      ]
    },
    {
      "cell_type": "markdown",
      "metadata": {
        "id": "KeKgmIdAQMEJ"
      },
      "source": [
        "# Задача 8\n",
        "Функция принимает на вход положительное число и определяет является ли оно сбалансированным, т.е. сумма цифр до средних равна сумме цифр после. Средними в случае нечетного числа цифр считать одну цифру, в случае четного - две средних. Написать тесты для кода"
      ]
    },
    {
      "cell_type": "code",
      "execution_count": null,
      "metadata": {
        "id": "gMAAqtqlQrZt"
      },
      "outputs": [],
      "source": [
        "def is_balanced_number(num):\n",
        "    # Преобразуем число в строку для удобства обработки цифр\n",
        "    num_str = str(num)\n",
        "    num_digits = len(num_str)\n",
        "\n",
        "    # Проверка на положительное число\n",
        "    if num <= 0:\n",
        "        raise ValueError(\"Input must be a positive integer\")\n",
        "\n",
        "    # Расчет индекса средней цифры или цифр\n",
        "    if num_digits % 2 == 0:\n",
        "        mid_left = num_digits // 2 - 1\n",
        "        mid_right = num_digits // 2\n",
        "    else:\n",
        "        mid_left = mid_right = num_digits // 2\n",
        "\n",
        "    # Суммирование цифр до и после средних\n",
        "    sum_before_mid = sum(int(digit) for digit in num_str[:mid_left])\n",
        "    sum_after_mid = sum(int(digit) for digit in num_str[mid_right + 1:])\n",
        "\n",
        "    return sum_before_mid == sum_after_mid\n",
        "\n",
        "# Тесты\n",
        "def test_is_balanced_number():\n",
        "    assert is_balanced_number(121) == True  # 1 == 1\n",
        "    assert is_balanced_number(12321) == True  # 1+2 == 2+1\n",
        "    assert is_balanced_number(12345) == False  # 1+2+3 != 4+5\n",
        "    assert is_balanced_number(11111) == True  # 1 == 1\n",
        "    assert is_balanced_number(987654321) == False  # 9+8+7 != 6+5+4+3+2+1\n",
        "\n",
        "# Запуск тестов\n",
        "test_is_balanced_number()"
      ]
    }
  ],
  "metadata": {
    "colab": {
      "provenance": []
    },
    "kernelspec": {
      "display_name": "Python 3",
      "name": "python3"
    },
    "language_info": {
      "name": "python"
    }
  },
  "nbformat": 4,
  "nbformat_minor": 0
}
